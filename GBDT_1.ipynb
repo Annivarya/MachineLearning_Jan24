{
  "nbformat": 4,
  "nbformat_minor": 0,
  "metadata": {
    "colab": {
      "provenance": [],
      "authorship_tag": "ABX9TyNhmj7ZEHQ5KE1F1Xm8Cs9u",
      "include_colab_link": true
    },
    "kernelspec": {
      "name": "python3",
      "display_name": "Python 3"
    },
    "language_info": {
      "name": "python"
    }
  },
  "cells": [
    {
      "cell_type": "markdown",
      "metadata": {
        "id": "view-in-github",
        "colab_type": "text"
      },
      "source": [
        "<a href=\"https://colab.research.google.com/github/SachinScaler/MachineLearning_Jan24/blob/main/GBDT_1.ipynb\" target=\"_parent\"><img src=\"https://colab.research.google.com/assets/colab-badge.svg\" alt=\"Open In Colab\"/></a>"
      ]
    },
    {
      "cell_type": "code",
      "execution_count": 1,
      "metadata": {
        "colab": {
          "base_uri": "https://localhost:8080/"
        },
        "id": "WPUV5Ow7K7m4",
        "outputId": "76961fad-7645-4ee0-cc47-72f446d6c750"
      },
      "outputs": [
        {
          "output_type": "stream",
          "name": "stdout",
          "text": [
            "Cloning into 'MachineLearning_Jan23'...\n",
            "remote: Enumerating objects: 40, done.\u001b[K\n",
            "remote: Counting objects: 100% (40/40), done.\u001b[K\n",
            "remote: Compressing objects: 100% (38/38), done.\u001b[K\n",
            "remote: Total 40 (delta 10), reused 0 (delta 0), pack-reused 0\u001b[K\n",
            "Receiving objects: 100% (40/40), 22.27 MiB | 19.92 MiB/s, done.\n",
            "Resolving deltas: 100% (10/10), done.\n"
          ]
        }
      ],
      "source": [
        "!git clone https://github.com/SachinScaler/MachineLearning_Jan23.git"
      ]
    },
    {
      "cell_type": "code",
      "source": [
        "import pickle\n",
        "# Load data (deserialize)\n",
        "with open('MachineLearning_Jan23/employee_attrition_dataset/preprocessed_X_sm.pickle', 'rb') as handle:\n",
        "    X_train = pickle.load(handle)\n",
        "\n",
        "with open('MachineLearning_Jan23/employee_attrition_dataset/X_test.pickle', 'rb') as handle:\n",
        "    X_test = pickle.load(handle)\n",
        "\n",
        "with open('MachineLearning_Jan23/employee_attrition_dataset/y_sm.pickle', 'rb') as handle:\n",
        "    y_train = pickle.load(handle)\n",
        "\n",
        "with open('MachineLearning_Jan23/employee_attrition_dataset/y_test.pickle', 'rb') as handle:\n",
        "    y_test = pickle.load(handle)"
      ],
      "metadata": {
        "id": "pD_zwJ6f0-6N"
      },
      "execution_count": 2,
      "outputs": []
    },
    {
      "cell_type": "code",
      "source": [
        "# import DecisionTreeClassifier\n",
        "from sklearn.ensemble import GradientBoostingClassifier\n",
        "\n",
        "# create instance of DT Class:\n",
        "model = GradientBoostingClassifier(loss='log_loss')\n",
        "\n",
        "# fit model\n",
        "model.fit(X_train, y_train)\n",
        "\n",
        "# Calculate Train and Test Acc Scores\n",
        "print(\"Train Acc:\", model.score(X_train, y_train))\n",
        "print(\"Test Acc:\", model.score(X_test, y_test))"
      ],
      "metadata": {
        "colab": {
          "base_uri": "https://localhost:8080/"
        },
        "id": "ALZERbVT1AY9",
        "outputId": "43e749f9-56bd-4ef6-d5fc-7f12e0a9fe79"
      },
      "execution_count": 5,
      "outputs": [
        {
          "output_type": "stream",
          "name": "stdout",
          "text": [
            "Train Acc: 0.9680735930735931\n",
            "Test Acc: 0.8722826086956522\n"
          ]
        }
      ]
    },
    {
      "cell_type": "code",
      "source": [],
      "metadata": {
        "id": "xy2OJb8M1TxM"
      },
      "execution_count": null,
      "outputs": []
    }
  ]
}