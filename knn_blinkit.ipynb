{
  "nbformat": 4,
  "nbformat_minor": 0,
  "metadata": {
    "colab": {
      "provenance": [],
      "include_colab_link": true
    },
    "kernelspec": {
      "name": "python3",
      "display_name": "Python 3"
    },
    "language_info": {
      "name": "python"
    }
  },
  "cells": [
    {
      "cell_type": "markdown",
      "metadata": {
        "id": "view-in-github",
        "colab_type": "text"
      },
      "source": [
        "<a href=\"https://colab.research.google.com/github/SachinScaler/MachineLearning_Jan24/blob/main/knn_blinkit.ipynb\" target=\"_parent\"><img src=\"https://colab.research.google.com/assets/colab-badge.svg\" alt=\"Open In Colab\"/></a>"
      ]
    },
    {
      "cell_type": "markdown",
      "source": [
        "DEMO Link: http://vision.stanford.edu/teaching/cs231n-demos/knn/"
      ],
      "metadata": {
        "id": "FYjN5NBF0z52"
      }
    },
    {
      "cell_type": "code",
      "execution_count": null,
      "metadata": {
        "id": "sT5ICfCTCXUw"
      },
      "outputs": [],
      "source": [
        "import pandas as pd\n",
        "import numpy as np\n",
        "import seaborn as sns\n",
        "import matplotlib.pyplot as plt"
      ]
    },
    {
      "cell_type": "code",
      "source": [
        "df=pd.read_csv('https://gist.github.com/singhsidhukuldeep/cc3c9597bce35f5f242a921eb3361c75/raw/54227431f0dc8ac1c438f438e2174d181fdda330/blinkit_multiclass.csv')\n",
        "df.head()"
      ],
      "metadata": {
        "colab": {
          "base_uri": "https://localhost:8080/",
          "height": 206
        },
        "id": "dKsmptN_Cg5z",
        "outputId": "a322c782-b466-45fe-9fcf-6cda9c98a0de"
      },
      "execution_count": null,
      "outputs": [
        {
          "output_type": "execute_result",
          "data": {
            "text/plain": [
              "   Region  Fresh  Milk  Grocery  Frozen  Detergents_Paper  Delicassen  class\n",
              "0       3  12669  9656     7561     214              2674        1338      2\n",
              "1       3   7057  9810     9568    1762              3293        1776      2\n",
              "2       3   6353  8808     7684    2405              3516        7844      2\n",
              "3       3  13265  1196     4221    6404               507        1788      1\n",
              "4       3  22615  5410     7198    3915              1777        5185      1"
            ],
            "text/html": [
              "\n",
              "  <div id=\"df-707d6a7e-5fef-42fd-ae04-9dc8172bd623\" class=\"colab-df-container\">\n",
              "    <div>\n",
              "<style scoped>\n",
              "    .dataframe tbody tr th:only-of-type {\n",
              "        vertical-align: middle;\n",
              "    }\n",
              "\n",
              "    .dataframe tbody tr th {\n",
              "        vertical-align: top;\n",
              "    }\n",
              "\n",
              "    .dataframe thead th {\n",
              "        text-align: right;\n",
              "    }\n",
              "</style>\n",
              "<table border=\"1\" class=\"dataframe\">\n",
              "  <thead>\n",
              "    <tr style=\"text-align: right;\">\n",
              "      <th></th>\n",
              "      <th>Region</th>\n",
              "      <th>Fresh</th>\n",
              "      <th>Milk</th>\n",
              "      <th>Grocery</th>\n",
              "      <th>Frozen</th>\n",
              "      <th>Detergents_Paper</th>\n",
              "      <th>Delicassen</th>\n",
              "      <th>class</th>\n",
              "    </tr>\n",
              "  </thead>\n",
              "  <tbody>\n",
              "    <tr>\n",
              "      <th>0</th>\n",
              "      <td>3</td>\n",
              "      <td>12669</td>\n",
              "      <td>9656</td>\n",
              "      <td>7561</td>\n",
              "      <td>214</td>\n",
              "      <td>2674</td>\n",
              "      <td>1338</td>\n",
              "      <td>2</td>\n",
              "    </tr>\n",
              "    <tr>\n",
              "      <th>1</th>\n",
              "      <td>3</td>\n",
              "      <td>7057</td>\n",
              "      <td>9810</td>\n",
              "      <td>9568</td>\n",
              "      <td>1762</td>\n",
              "      <td>3293</td>\n",
              "      <td>1776</td>\n",
              "      <td>2</td>\n",
              "    </tr>\n",
              "    <tr>\n",
              "      <th>2</th>\n",
              "      <td>3</td>\n",
              "      <td>6353</td>\n",
              "      <td>8808</td>\n",
              "      <td>7684</td>\n",
              "      <td>2405</td>\n",
              "      <td>3516</td>\n",
              "      <td>7844</td>\n",
              "      <td>2</td>\n",
              "    </tr>\n",
              "    <tr>\n",
              "      <th>3</th>\n",
              "      <td>3</td>\n",
              "      <td>13265</td>\n",
              "      <td>1196</td>\n",
              "      <td>4221</td>\n",
              "      <td>6404</td>\n",
              "      <td>507</td>\n",
              "      <td>1788</td>\n",
              "      <td>1</td>\n",
              "    </tr>\n",
              "    <tr>\n",
              "      <th>4</th>\n",
              "      <td>3</td>\n",
              "      <td>22615</td>\n",
              "      <td>5410</td>\n",
              "      <td>7198</td>\n",
              "      <td>3915</td>\n",
              "      <td>1777</td>\n",
              "      <td>5185</td>\n",
              "      <td>1</td>\n",
              "    </tr>\n",
              "  </tbody>\n",
              "</table>\n",
              "</div>\n",
              "    <div class=\"colab-df-buttons\">\n",
              "\n",
              "  <div class=\"colab-df-container\">\n",
              "    <button class=\"colab-df-convert\" onclick=\"convertToInteractive('df-707d6a7e-5fef-42fd-ae04-9dc8172bd623')\"\n",
              "            title=\"Convert this dataframe to an interactive table.\"\n",
              "            style=\"display:none;\">\n",
              "\n",
              "  <svg xmlns=\"http://www.w3.org/2000/svg\" height=\"24px\" viewBox=\"0 -960 960 960\">\n",
              "    <path d=\"M120-120v-720h720v720H120Zm60-500h600v-160H180v160Zm220 220h160v-160H400v160Zm0 220h160v-160H400v160ZM180-400h160v-160H180v160Zm440 0h160v-160H620v160ZM180-180h160v-160H180v160Zm440 0h160v-160H620v160Z\"/>\n",
              "  </svg>\n",
              "    </button>\n",
              "\n",
              "  <style>\n",
              "    .colab-df-container {\n",
              "      display:flex;\n",
              "      gap: 12px;\n",
              "    }\n",
              "\n",
              "    .colab-df-convert {\n",
              "      background-color: #E8F0FE;\n",
              "      border: none;\n",
              "      border-radius: 50%;\n",
              "      cursor: pointer;\n",
              "      display: none;\n",
              "      fill: #1967D2;\n",
              "      height: 32px;\n",
              "      padding: 0 0 0 0;\n",
              "      width: 32px;\n",
              "    }\n",
              "\n",
              "    .colab-df-convert:hover {\n",
              "      background-color: #E2EBFA;\n",
              "      box-shadow: 0px 1px 2px rgba(60, 64, 67, 0.3), 0px 1px 3px 1px rgba(60, 64, 67, 0.15);\n",
              "      fill: #174EA6;\n",
              "    }\n",
              "\n",
              "    .colab-df-buttons div {\n",
              "      margin-bottom: 4px;\n",
              "    }\n",
              "\n",
              "    [theme=dark] .colab-df-convert {\n",
              "      background-color: #3B4455;\n",
              "      fill: #D2E3FC;\n",
              "    }\n",
              "\n",
              "    [theme=dark] .colab-df-convert:hover {\n",
              "      background-color: #434B5C;\n",
              "      box-shadow: 0px 1px 3px 1px rgba(0, 0, 0, 0.15);\n",
              "      filter: drop-shadow(0px 1px 2px rgba(0, 0, 0, 0.3));\n",
              "      fill: #FFFFFF;\n",
              "    }\n",
              "  </style>\n",
              "\n",
              "    <script>\n",
              "      const buttonEl =\n",
              "        document.querySelector('#df-707d6a7e-5fef-42fd-ae04-9dc8172bd623 button.colab-df-convert');\n",
              "      buttonEl.style.display =\n",
              "        google.colab.kernel.accessAllowed ? 'block' : 'none';\n",
              "\n",
              "      async function convertToInteractive(key) {\n",
              "        const element = document.querySelector('#df-707d6a7e-5fef-42fd-ae04-9dc8172bd623');\n",
              "        const dataTable =\n",
              "          await google.colab.kernel.invokeFunction('convertToInteractive',\n",
              "                                                    [key], {});\n",
              "        if (!dataTable) return;\n",
              "\n",
              "        const docLinkHtml = 'Like what you see? Visit the ' +\n",
              "          '<a target=\"_blank\" href=https://colab.research.google.com/notebooks/data_table.ipynb>data table notebook</a>'\n",
              "          + ' to learn more about interactive tables.';\n",
              "        element.innerHTML = '';\n",
              "        dataTable['output_type'] = 'display_data';\n",
              "        await google.colab.output.renderOutput(dataTable, element);\n",
              "        const docLink = document.createElement('div');\n",
              "        docLink.innerHTML = docLinkHtml;\n",
              "        element.appendChild(docLink);\n",
              "      }\n",
              "    </script>\n",
              "  </div>\n",
              "\n",
              "\n",
              "<div id=\"df-90c683b7-7240-4ab5-987d-1524c329cb9d\">\n",
              "  <button class=\"colab-df-quickchart\" onclick=\"quickchart('df-90c683b7-7240-4ab5-987d-1524c329cb9d')\"\n",
              "            title=\"Suggest charts\"\n",
              "            style=\"display:none;\">\n",
              "\n",
              "<svg xmlns=\"http://www.w3.org/2000/svg\" height=\"24px\"viewBox=\"0 0 24 24\"\n",
              "     width=\"24px\">\n",
              "    <g>\n",
              "        <path d=\"M19 3H5c-1.1 0-2 .9-2 2v14c0 1.1.9 2 2 2h14c1.1 0 2-.9 2-2V5c0-1.1-.9-2-2-2zM9 17H7v-7h2v7zm4 0h-2V7h2v10zm4 0h-2v-4h2v4z\"/>\n",
              "    </g>\n",
              "</svg>\n",
              "  </button>\n",
              "\n",
              "<style>\n",
              "  .colab-df-quickchart {\n",
              "      --bg-color: #E8F0FE;\n",
              "      --fill-color: #1967D2;\n",
              "      --hover-bg-color: #E2EBFA;\n",
              "      --hover-fill-color: #174EA6;\n",
              "      --disabled-fill-color: #AAA;\n",
              "      --disabled-bg-color: #DDD;\n",
              "  }\n",
              "\n",
              "  [theme=dark] .colab-df-quickchart {\n",
              "      --bg-color: #3B4455;\n",
              "      --fill-color: #D2E3FC;\n",
              "      --hover-bg-color: #434B5C;\n",
              "      --hover-fill-color: #FFFFFF;\n",
              "      --disabled-bg-color: #3B4455;\n",
              "      --disabled-fill-color: #666;\n",
              "  }\n",
              "\n",
              "  .colab-df-quickchart {\n",
              "    background-color: var(--bg-color);\n",
              "    border: none;\n",
              "    border-radius: 50%;\n",
              "    cursor: pointer;\n",
              "    display: none;\n",
              "    fill: var(--fill-color);\n",
              "    height: 32px;\n",
              "    padding: 0;\n",
              "    width: 32px;\n",
              "  }\n",
              "\n",
              "  .colab-df-quickchart:hover {\n",
              "    background-color: var(--hover-bg-color);\n",
              "    box-shadow: 0 1px 2px rgba(60, 64, 67, 0.3), 0 1px 3px 1px rgba(60, 64, 67, 0.15);\n",
              "    fill: var(--button-hover-fill-color);\n",
              "  }\n",
              "\n",
              "  .colab-df-quickchart-complete:disabled,\n",
              "  .colab-df-quickchart-complete:disabled:hover {\n",
              "    background-color: var(--disabled-bg-color);\n",
              "    fill: var(--disabled-fill-color);\n",
              "    box-shadow: none;\n",
              "  }\n",
              "\n",
              "  .colab-df-spinner {\n",
              "    border: 2px solid var(--fill-color);\n",
              "    border-color: transparent;\n",
              "    border-bottom-color: var(--fill-color);\n",
              "    animation:\n",
              "      spin 1s steps(1) infinite;\n",
              "  }\n",
              "\n",
              "  @keyframes spin {\n",
              "    0% {\n",
              "      border-color: transparent;\n",
              "      border-bottom-color: var(--fill-color);\n",
              "      border-left-color: var(--fill-color);\n",
              "    }\n",
              "    20% {\n",
              "      border-color: transparent;\n",
              "      border-left-color: var(--fill-color);\n",
              "      border-top-color: var(--fill-color);\n",
              "    }\n",
              "    30% {\n",
              "      border-color: transparent;\n",
              "      border-left-color: var(--fill-color);\n",
              "      border-top-color: var(--fill-color);\n",
              "      border-right-color: var(--fill-color);\n",
              "    }\n",
              "    40% {\n",
              "      border-color: transparent;\n",
              "      border-right-color: var(--fill-color);\n",
              "      border-top-color: var(--fill-color);\n",
              "    }\n",
              "    60% {\n",
              "      border-color: transparent;\n",
              "      border-right-color: var(--fill-color);\n",
              "    }\n",
              "    80% {\n",
              "      border-color: transparent;\n",
              "      border-right-color: var(--fill-color);\n",
              "      border-bottom-color: var(--fill-color);\n",
              "    }\n",
              "    90% {\n",
              "      border-color: transparent;\n",
              "      border-bottom-color: var(--fill-color);\n",
              "    }\n",
              "  }\n",
              "</style>\n",
              "\n",
              "  <script>\n",
              "    async function quickchart(key) {\n",
              "      const quickchartButtonEl =\n",
              "        document.querySelector('#' + key + ' button');\n",
              "      quickchartButtonEl.disabled = true;  // To prevent multiple clicks.\n",
              "      quickchartButtonEl.classList.add('colab-df-spinner');\n",
              "      try {\n",
              "        const charts = await google.colab.kernel.invokeFunction(\n",
              "            'suggestCharts', [key], {});\n",
              "      } catch (error) {\n",
              "        console.error('Error during call to suggestCharts:', error);\n",
              "      }\n",
              "      quickchartButtonEl.classList.remove('colab-df-spinner');\n",
              "      quickchartButtonEl.classList.add('colab-df-quickchart-complete');\n",
              "    }\n",
              "    (() => {\n",
              "      let quickchartButtonEl =\n",
              "        document.querySelector('#df-90c683b7-7240-4ab5-987d-1524c329cb9d button');\n",
              "      quickchartButtonEl.style.display =\n",
              "        google.colab.kernel.accessAllowed ? 'block' : 'none';\n",
              "    })();\n",
              "  </script>\n",
              "</div>\n",
              "\n",
              "    </div>\n",
              "  </div>\n"
            ]
          },
          "metadata": {},
          "execution_count": 2
        }
      ]
    },
    {
      "cell_type": "markdown",
      "source": [
        "**Data Description**\n",
        "\n",
        "|feature|Description|\n",
        "|-|-|\n",
        "|**Region**|where the store is located (1: Tier-1 city, 2: Tier-2 city, 3:Tier-3 city)|\n",
        "|**Fresh**|purchase history of Fresh food|\n",
        "|**Milk**|purchase history of milk product|\n",
        "|**Grocery**|purchase history of Grocery|\n",
        "|**Frozen**|purchase history of Frozen food|\n",
        "|**Detergents_Paper**|purchase history of washing products|\n",
        "|**Delicassen**|purchase history of imported products, cooked meat|\n",
        "|**class**|Store catgeory based on demand on products|\n",
        "\n",
        "\n",
        "\n"
      ],
      "metadata": {
        "id": "ZUu-s0RzC0r0"
      }
    },
    {
      "cell_type": "code",
      "source": [
        "import seaborn as sns\n",
        "sns.countplot(data=df, x=\"class\")"
      ],
      "metadata": {
        "colab": {
          "base_uri": "https://localhost:8080/",
          "height": 466
        },
        "id": "xx-EVMqLC1AS",
        "outputId": "7d694037-ae02-4462-8ba4-3afe009b4126"
      },
      "execution_count": null,
      "outputs": [
        {
          "output_type": "execute_result",
          "data": {
            "text/plain": [
              "<Axes: xlabel='class', ylabel='count'>"
            ]
          },
          "metadata": {},
          "execution_count": 3
        },
        {
          "output_type": "display_data",
          "data": {
            "text/plain": [
              "<Figure size 640x480 with 1 Axes>"
            ],
            "image/png": "[encoded data removed]"
          },
          "metadata": {}
        }
      ]
    },
    {
      "cell_type": "code",
      "source": [
        "X=df[['Region',\t'Fresh',\t'Milk',\t'Grocery',\t'Frozen',\t'Detergents_Paper',\t'Delicassen']].copy()\n",
        "y=df[['class']].copy()"
      ],
      "metadata": {
        "id": "WEOlzNXeDCu7"
      },
      "execution_count": null,
      "outputs": []
    },
    {
      "cell_type": "code",
      "source": [
        "from sklearn.decomposition import PCA\n",
        "import matplotlib.pyplot as plt\n",
        "\n",
        "# reducing features to just 2 features\n",
        "pca = PCA(n_components=2)\n",
        "print(X.shape)\n",
        "X = pca.fit_transform(X)\n",
        "print(X.shape)"
      ],
      "metadata": {
        "colab": {
          "base_uri": "https://localhost:8080/"
        },
        "id": "vTUYJd8rDcgd",
        "outputId": "9b2d7e50-7310-4e83-ce80-aa91515ad07f"
      },
      "execution_count": null,
      "outputs": [
        {
          "output_type": "stream",
          "name": "stdout",
          "text": [
            "(440, 7)\n",
            "(440, 2)\n"
          ]
        }
      ]
    },
    {
      "cell_type": "code",
      "source": [
        "df2 = pd.DataFrame(X, columns=['f1', 'f2'])\n",
        "df2['y'] = y\n",
        "\n",
        "sns.scatterplot(data= df2, x= 'f1',y = 'f2' , hue = 'y')\n",
        "plt.show()"
      ],
      "metadata": {
        "colab": {
          "base_uri": "https://localhost:8080/",
          "height": 449
        },
        "id": "LwZuKrTMDhfT",
        "outputId": "caccadb0-e79e-496b-990a-43b6da5cf38c"
      },
      "execution_count": null,
      "outputs": [
        {
          "output_type": "display_data",
          "data": {
            "text/plain": [
              "<Figure size 640x480 with 1 Axes>"
            ],
            "image/png": "[encoded data removed]"
          },
          "metadata": {}
        }
      ]
    },
    {
      "cell_type": "code",
      "source": [
        "## train test split\n",
        "\n",
        "from sklearn.model_selection import train_test_split\n",
        "\n",
        "X_train_val, X_test, y_train_val, y_test = train_test_split(X,\n",
        "                                                    y.values[:,0],\n",
        "                                                    test_size=0.25, random_state=42)\n",
        "\n",
        "X_train, X_val, y_train, y_val = train_test_split(X_train_val,\n",
        "                                                    y_train_val,\n",
        "                                                    test_size=0.25, random_state=42)"
      ],
      "metadata": {
        "id": "3lUx4rh3D0WT"
      },
      "execution_count": null,
      "outputs": []
    },
    {
      "cell_type": "code",
      "source": [
        "print(X_train.shape, y_train.shape)\n",
        "print(X_val.shape, y_val.shape)\n",
        "print(X_test.shape, y_test.shape)"
      ],
      "metadata": {
        "colab": {
          "base_uri": "https://localhost:8080/"
        },
        "id": "a7_OaqV1D1WS",
        "outputId": "30adbe7a-f0ad-4f6c-dc89-99181e975053"
      },
      "execution_count": null,
      "outputs": [
        {
          "output_type": "stream",
          "name": "stdout",
          "text": [
            "(247, 2) (247,)\n",
            "(83, 2) (83,)\n",
            "(110, 2) (110,)\n"
          ]
        }
      ]
    },
    {
      "cell_type": "code",
      "source": [
        "# standardisation\n",
        "mu = X_train.mean(axis=0)\n",
        "sig = X_train.std(axis=0)"
      ],
      "metadata": {
        "id": "o7aGY4ggD_9x"
      },
      "execution_count": null,
      "outputs": []
    },
    {
      "cell_type": "code",
      "source": [
        "X_train = (X_train-mu)/sig\n",
        "X_val = (X_val-mu)/sig\n",
        "X_test = (X_test-mu)/sig"
      ],
      "metadata": {
        "id": "JWxFqKlfEDtq"
      },
      "execution_count": null,
      "outputs": []
    },
    {
      "cell_type": "code",
      "source": [
        "## KNN Algo\n",
        "\n",
        "def knn(X,Y,queryPoint,k=5):\n",
        "    \"\"\"Predict the class label for the query point\"\"\"\n",
        "    # Euclidean Distance\n",
        "    dist = np.sqrt(np.sum((queryPoint-X)**2,axis=1) )\n",
        "    print('all dist: ', dist[:7])\n",
        "\n",
        "    # Storing distance and Class labels together\n",
        "    distances = [(dist[i],Y[i]) for i in range(len(dist)) ]\n",
        "    print('Distances with labels: ', distances[:7])\n",
        "\n",
        "    # sort the distances\n",
        "    distances = sorted(distances, key=lambda x:x[0])\n",
        "    print('Distances sorted: ', distances[:7])\n",
        "\n",
        "    # Nearest/First K points\n",
        "    distances = distances[:k]\n",
        "    print('Distances top k: ', distances)\n",
        "\n",
        "    # print(f'k nearest neighbors with the distance and class label :{distances}')\n",
        "    distances = np.array(distances)\n",
        "    print('Distances top k as np array: ', distances)\n",
        "\n",
        "    # https://numpy.org/doc/stable/reference/generated/numpy.unique.html\n",
        "    classes_counts = np.unique(distances[:,1],return_counts=True)\n",
        "    print('classes_counts:', classes_counts)\n",
        "\n",
        "    index = classes_counts[1].argmax()\n",
        "    pred = classes_counts[0][index]\n",
        "    print(f\"Prediction: {pred} at index {index} in classes_counts {classes_counts}\")\n",
        "\n",
        "    return int(pred)\n",
        "## predicting\n",
        "print(X_test[50])\n",
        "print(knn(X_train, y_train, X_test[50], k=100))"
      ],
      "metadata": {
        "colab": {
          "base_uri": "https://localhost:8080/"
        },
        "id": "lt8xpF_nzY4f",
        "outputId": "77f7a994-357c-4e32-fefe-d3045e0141d9"
      },
      "execution_count": null,
      "outputs": [
        {
          "output_type": "stream",
          "name": "stdout",
          "text": [
            "[0.12263833 1.24645031]\n",
            "all dist:  [1.94061733 1.57859696 3.53453359 1.96153762 1.57265122 1.03241858\n",
            " 1.78373319]\n",
            "Distances with labels:  [(1.9406173337362433, 2), (1.578596955973962, 1), (3.5345335899778134, 2), (1.9615376212335691, 3), (1.5726512150188974, 3), (1.032418584928892, 2), (1.7837331881688139, 3)]\n",
            "Distances sorted:  [(0.18070886525751703, 2), (0.3267729243339275, 2), (0.3939690441373117, 2), (0.413636334408564, 2), (0.5303829069102112, 2), (0.5837131559530532, 2), (0.6197074402197672, 2)]\n",
            "Distances top k:  [(0.18070886525751703, 2), (0.3267729243339275, 2), (0.3939690441373117, 2), (0.413636334408564, 2), (0.5303829069102112, 2), (0.5837131559530532, 2), (0.6197074402197672, 2), (0.6562083252456906, 2), (0.6564400793625751, 2), (0.7019232075553429, 2), (0.7099708682714401, 2), (0.820151844465965, 2), (0.8640498105227896, 2), (0.8957859669776321, 2), (0.9290531129950909, 2), (0.9354856979847097, 2), (0.9378460246069392, 2), (0.9499654171812999, 2), (0.955722141790368, 2), (0.9613434011239005, 2), (0.9624634068507205, 2), (0.9810912153903045, 2), (0.9832998870273941, 2), (0.9988859478174936, 2), (1.0096408685088487, 2), (1.020515013780441, 2), (1.0221643072232758, 2), (1.0253522588861517, 2), (1.032418584928892, 2), (1.0550424766234896, 2), (1.0806227663127133, 2), (1.094260740058427, 2), (1.09461635918281, 2), (1.0989098880775074, 2), (1.114219457813048, 2), (1.121759030016434, 2), (1.130973550916019, 2), (1.1330071476304546, 2), (1.1341238170922898, 2), (1.1399192233608495, 2), (1.1475678358803603, 2), (1.1499197848162586, 2), (1.17166189860335, 2), (1.173517560506529, 2), (1.1798092871167678, 2), (1.182506350235708, 2), (1.202503786048399, 2), (1.2187041928959097, 2), (1.220723589562913, 2), (1.2301576778056003, 2), (1.235722583956555, 2), (1.2477643421550833, 2), (1.2581357241712687, 2), (1.2815691785712084, 2), (1.2820503560672234, 2), (1.2829839097707472, 2), (1.2880371948779998, 2), (1.2979406759484096, 3), (1.3137859410430426, 2), (1.3253838816401193, 3), (1.3438007619314898, 2), (1.3519150086423657, 2), (1.3634992268854838, 3), (1.3660180493504641, 1), (1.3675292289897807, 2), (1.4090384186321934, 3), (1.4169755818186682, 3), (1.4296783662394807, 3), (1.4344124623173196, 3), (1.4469297088402702, 2), (1.4494991203335144, 2), (1.4588881126162079, 2), (1.4605298391616268, 3), (1.466573911780866, 3), (1.477661020169789, 1), (1.5050646596571, 3), (1.5247900831798884, 3), (1.5356993108639712, 3), (1.5380944505874174, 3), (1.5409351375805662, 2), (1.5517273254800414, 2), (1.5526120239807797, 3), (1.5584502075070616, 3), (1.5726512150188974, 3), (1.574412183494799, 3), (1.578596955973962, 1), (1.5979605113965802, 3), (1.6079004783659903, 1), (1.6107178331181538, 1), (1.6107870812277216, 1), (1.6385808278348721, 3), (1.6558342512044595, 1), (1.6578306265460285, 3), (1.669603914208887, 3), (1.6851971806634138, 3), (1.689761852122081, 3), (1.6948959683069102, 2), (1.707455268388571, 3), (1.7205743524853812, 3), (1.7245049208550742, 1)]\n",
            "Distances top k as np array:  [[0.18070887 2.        ]\n",
            " [0.32677292 2.        ]\n",
            " [0.39396904 2.        ]\n",
            " [0.41363633 2.        ]\n",
            " [0.53038291 2.        ]\n",
            " [0.58371316 2.        ]\n",
            " [0.61970744 2.        ]\n",
            " [0.65620833 2.        ]\n",
            " [0.65644008 2.        ]\n",
            " [0.70192321 2.        ]\n",
            " [0.70997087 2.        ]\n",
            " [0.82015184 2.        ]\n",
            " [0.86404981 2.        ]\n",
            " [0.89578597 2.        ]\n",
            " [0.92905311 2.        ]\n",
            " [0.9354857  2.        ]\n",
            " [0.93784602 2.        ]\n",
            " [0.94996542 2.        ]\n",
            " [0.95572214 2.        ]\n",
            " [0.9613434  2.        ]\n",
            " [0.96246341 2.        ]\n",
            " [0.98109122 2.        ]\n",
            " [0.98329989 2.        ]\n",
            " [0.99888595 2.        ]\n",
            " [1.00964087 2.        ]\n",
            " [1.02051501 2.        ]\n",
            " [1.02216431 2.        ]\n",
            " [1.02535226 2.        ]\n",
            " [1.03241858 2.        ]\n",
            " [1.05504248 2.        ]\n",
            " [1.08062277 2.        ]\n",
            " [1.09426074 2.        ]\n",
            " [1.09461636 2.        ]\n",
            " [1.09890989 2.        ]\n",
            " [1.11421946 2.        ]\n",
            " [1.12175903 2.        ]\n",
            " [1.13097355 2.        ]\n",
            " [1.13300715 2.        ]\n",
            " [1.13412382 2.        ]\n",
            " [1.13991922 2.        ]\n",
            " [1.14756784 2.        ]\n",
            " [1.14991978 2.        ]\n",
            " [1.1716619  2.        ]\n",
            " [1.17351756 2.        ]\n",
            " [1.17980929 2.        ]\n",
            " [1.18250635 2.        ]\n",
            " [1.20250379 2.        ]\n",
            " [1.21870419 2.        ]\n",
            " [1.22072359 2.        ]\n",
            " [1.23015768 2.        ]\n",
            " [1.23572258 2.        ]\n",
            " [1.24776434 2.        ]\n",
            " [1.25813572 2.        ]\n",
            " [1.28156918 2.        ]\n",
            " [1.28205036 2.        ]\n",
            " [1.28298391 2.        ]\n",
            " [1.28803719 2.        ]\n",
            " [1.29794068 3.        ]\n",
            " [1.31378594 2.        ]\n",
            " [1.32538388 3.        ]\n",
            " [1.34380076 2.        ]\n",
            " [1.35191501 2.        ]\n",
            " [1.36349923 3.        ]\n",
            " [1.36601805 1.        ]\n",
            " [1.36752923 2.        ]\n",
            " [1.40903842 3.        ]\n",
            " [1.41697558 3.        ]\n",
            " [1.42967837 3.        ]\n",
            " [1.43441246 3.        ]\n",
            " [1.44692971 2.        ]\n",
            " [1.44949912 2.        ]\n",
            " [1.45888811 2.        ]\n",
            " [1.46052984 3.        ]\n",
            " [1.46657391 3.        ]\n",
            " [1.47766102 1.        ]\n",
            " [1.50506466 3.        ]\n",
            " [1.52479008 3.        ]\n",
            " [1.53569931 3.        ]\n",
            " [1.53809445 3.        ]\n",
            " [1.54093514 2.        ]\n",
            " [1.55172733 2.        ]\n",
            " [1.55261202 3.        ]\n",
            " [1.55845021 3.        ]\n",
            " [1.57265122 3.        ]\n",
            " [1.57441218 3.        ]\n",
            " [1.57859696 1.        ]\n",
            " [1.59796051 3.        ]\n",
            " [1.60790048 1.        ]\n",
            " [1.61071783 1.        ]\n",
            " [1.61078708 1.        ]\n",
            " [1.63858083 3.        ]\n",
            " [1.65583425 1.        ]\n",
            " [1.65783063 3.        ]\n",
            " [1.66960391 3.        ]\n",
            " [1.68519718 3.        ]\n",
            " [1.68976185 3.        ]\n",
            " [1.69489597 2.        ]\n",
            " [1.70745527 3.        ]\n",
            " [1.72057435 3.        ]\n",
            " [1.72450492 1.        ]]\n",
            "classes_counts: (array([1., 2., 3.]), array([ 8, 67, 25]))\n",
            "Prediction: 2.0 at index 1 in classes_counts (array([1., 2., 3.]), array([ 8, 67, 25]))\n",
            "2\n"
          ]
        }
      ]
    },
    {
      "cell_type": "code",
      "source": [
        "## KNN Algo\n",
        "\n",
        "def knn(X,Y,queryPoint,k=5):\n",
        "    \"\"\"Predict the class label for the query point\"\"\"\n",
        "    # Euclidean Distance\n",
        "    dist = np.sqrt(np.sum((queryPoint-X)**2,axis=1) )\n",
        "\n",
        "    # Storing distance and Class labels together\n",
        "    distances = [(dist[i],Y[i]) for i in range(len(dist)) ]\n",
        "    # sort the distances\n",
        "    distances = sorted(distances, key=lambda x:x[0])\n",
        "    # Nearest/First K points\n",
        "    distances = distances[:k]\n",
        "\n",
        "    # print(f'k nearest neighbors with the distance and class label :{distances}')\n",
        "    distances = np.array(distances)\n",
        "\n",
        "    # https://numpy.org/doc/stable/reference/generated/numpy.unique.html\n",
        "    classes_counts = np.unique(distances[:,1],return_counts=True)\n",
        "\n",
        "    index = classes_counts[1].argmax()\n",
        "    pred = classes_counts[0][index]\n",
        "\n",
        "    return int(pred)"
      ],
      "metadata": {
        "id": "7RHKZvQqED-B"
      },
      "execution_count": null,
      "outputs": []
    },
    {
      "cell_type": "code",
      "source": [
        "## predicting\n",
        "print(X_test[50])\n",
        "print(knn(X_train, y_train, X_test[50]))"
      ],
      "metadata": {
        "colab": {
          "base_uri": "https://localhost:8080/"
        },
        "id": "sDPNJU3YEOKN",
        "outputId": "8098b91e-2e3c-4e27-edd4-d98b3ae0d97d"
      },
      "execution_count": null,
      "outputs": [
        {
          "output_type": "stream",
          "name": "stdout",
          "text": [
            "[0.12263833 1.24645031]\n",
            "2\n"
          ]
        }
      ]
    },
    {
      "cell_type": "code",
      "source": [
        "print(y_test[50])"
      ],
      "metadata": {
        "colab": {
          "base_uri": "https://localhost:8080/"
        },
        "id": "NcdHq9jAEYei",
        "outputId": "d20e1f2e-c606-4cff-b8b0-3fcd1b402bfc"
      },
      "execution_count": null,
      "outputs": [
        {
          "output_type": "stream",
          "name": "stdout",
          "text": [
            "2\n"
          ]
        }
      ]
    },
    {
      "cell_type": "code",
      "source": [
        "y_pred = np.zeros(X_test.shape[0])\n",
        "\n",
        "for i in range(X_test.shape[0]):\n",
        "    y_pred[i] = knn(X_train, y_train, X_test[i])\n",
        "\n",
        "print(f'Accuracy : ', round(100*(y_pred == y_test).sum()/y_pred.shape[0], 2))"
      ],
      "metadata": {
        "colab": {
          "base_uri": "https://localhost:8080/"
        },
        "id": "hNy0mzuxEatT",
        "outputId": "da26a465-8377-4709-8b58-84860b6ea04b"
      },
      "execution_count": null,
      "outputs": [
        {
          "output_type": "stream",
          "name": "stdout",
          "text": [
            "Accuracy :  95.45\n"
          ]
        }
      ]
    },
    {
      "cell_type": "code",
      "source": [
        "# Hyper-parameter tuning\n",
        "def give_me_accuracy(k, dataset = \"test\"):\n",
        "    y_pred = []\n",
        "\n",
        "    if dataset=='test':\n",
        "        for Xq in X_test:\n",
        "            p = knn(X_train, y_train, Xq, k = k)\n",
        "            y_pred.append(p)\n",
        "\n",
        "        y_pred = np.array(y_pred)\n",
        "\n",
        "        acc = (y_pred == y_test).sum() / len(y_test)\n",
        "    elif dataset=='train':\n",
        "        for Xq in X_train:\n",
        "            p = knn(X_train, y_train, Xq, k = k)\n",
        "            y_pred.append(p)\n",
        "\n",
        "        y_pred = np.array(y_pred)\n",
        "\n",
        "        acc = (y_pred == y_train).sum() / len(y_train)\n",
        "    return acc.round(5)*100"
      ],
      "metadata": {
        "id": "pcOv3RKLEmLT"
      },
      "execution_count": null,
      "outputs": []
    },
    {
      "cell_type": "code",
      "source": [
        "train_scores = []\n",
        "test_scores = []\n",
        "k_values = []\n",
        "\n",
        "\n",
        "for k in range(1, 15):\n",
        "    k_values.append(k)\n",
        "    train_scores.append(give_me_accuracy(k, dataset = \"train\"))\n",
        "    test_scores.append(give_me_accuracy(k, dataset = \"test\"))"
      ],
      "metadata": {
        "id": "qdsx71DmFBp9"
      },
      "execution_count": null,
      "outputs": []
    },
    {
      "cell_type": "code",
      "source": [
        "plt.plot(k_values, train_scores, label = \"train\")\n",
        "plt.plot(k_values, test_scores, label = \"test\")\n",
        "plt.title(\"Different k values\")\n",
        "plt.xlabel(\"k value\")\n",
        "plt.ylabel(\"Accuracy\")\n",
        "plt.legend()\n",
        "plt.show()"
      ],
      "metadata": {
        "colab": {
          "base_uri": "https://localhost:8080/",
          "height": 472
        },
        "id": "jrsFibxnFDq7",
        "outputId": "9c40ade5-f3ba-49fa-849e-03bb0d1042e1"
      },
      "execution_count": null,
      "outputs": [
        {
          "output_type": "display_data",
          "data": {
            "text/plain": [
              "<Figure size 640x480 with 1 Axes>"
            ],
            "image/png": "[encoded data removed]"
          },
          "metadata": {}
        }
      ]
    },
    {
      "cell_type": "code",
      "source": [
        "print(np.argmax(test_scores))\n",
        "print(\"best k is\", k_values[np.argmax(test_scores)])"
      ],
      "metadata": {
        "colab": {
          "base_uri": "https://localhost:8080/"
        },
        "id": "fe4fR0DqFMOc",
        "outputId": "8ad4d059-43b2-4224-e0d0-f3e75b0071d8"
      },
      "execution_count": null,
      "outputs": [
        {
          "output_type": "stream",
          "name": "stdout",
          "text": [
            "4\n",
            "best k is 5\n"
          ]
        }
      ]
    },
    {
      "cell_type": "code",
      "source": [
        "# Sklearn's KNN implementation\n",
        "# https://scikit-learn.org/stable/modules/generated/sklearn.neighbors.KNeighborsClassifier.html\n",
        "\n",
        "from sklearn.neighbors import KNeighborsClassifier\n",
        "\n",
        "knn = KNeighborsClassifier(n_neighbors=5,metric='euclidean')\n",
        "knn.fit(X_train, y_train)"
      ],
      "metadata": {
        "colab": {
          "base_uri": "https://localhost:8080/",
          "height": 74
        },
        "id": "3v-de5NgS8mv",
        "outputId": "b4f3c19e-e3b5-4824-9a66-739415d3b72e"
      },
      "execution_count": null,
      "outputs": [
        {
          "output_type": "execute_result",
          "data": {
            "text/plain": [
              "KNeighborsClassifier(metric='euclidean')"
            ],
            "text/html": [
              "<style>#sk-container-id-1 {color: black;background-color: white;}#sk-container-id-1 pre{padding: 0;}#sk-container-id-1 div.sk-toggleable {background-color: white;}#sk-container-id-1 label.sk-toggleable__label {cursor: pointer;display: block;width: 100%;margin-bottom: 0;padding: 0.3em;box-sizing: border-box;text-align: center;}#sk-container-id-1 label.sk-toggleable__label-arrow:before {content: \"▸\";float: left;margin-right: 0.25em;color: #696969;}#sk-container-id-1 label.sk-toggleable__label-arrow:hover:before {color: black;}#sk-container-id-1 div.sk-estimator:hover label.sk-toggleable__label-arrow:before {color: black;}#sk-container-id-1 div.sk-toggleable__content {max-height: 0;max-width: 0;overflow: hidden;text-align: left;background-color: #f0f8ff;}#sk-container-id-1 div.sk-toggleable__content pre {margin: 0.2em;color: black;border-radius: 0.25em;background-color: #f0f8ff;}#sk-container-id-1 input.sk-toggleable__control:checked~div.sk-toggleable__content {max-height: 200px;max-width: 100%;overflow: auto;}#sk-container-id-1 input.sk-toggleable__control:checked~label.sk-toggleable__label-arrow:before {content: \"▾\";}#sk-container-id-1 div.sk-estimator input.sk-toggleable__control:checked~label.sk-toggleable__label {background-color: #d4ebff;}#sk-container-id-1 div.sk-label input.sk-toggleable__control:checked~label.sk-toggleable__label {background-color: #d4ebff;}#sk-container-id-1 input.sk-hidden--visually {border: 0;clip: rect(1px 1px 1px 1px);clip: rect(1px, 1px, 1px, 1px);height: 1px;margin: -1px;overflow: hidden;padding: 0;position: absolute;width: 1px;}#sk-container-id-1 div.sk-estimator {font-family: monospace;background-color: #f0f8ff;border: 1px dotted black;border-radius: 0.25em;box-sizing: border-box;margin-bottom: 0.5em;}#sk-container-id-1 div.sk-estimator:hover {background-color: #d4ebff;}#sk-container-id-1 div.sk-parallel-item::after {content: \"\";width: 100%;border-bottom: 1px solid gray;flex-grow: 1;}#sk-container-id-1 div.sk-label:hover label.sk-toggleable__label {background-color: #d4ebff;}#sk-container-id-1 div.sk-serial::before {content: \"\";position: absolute;border-left: 1px solid gray;box-sizing: border-box;top: 0;bottom: 0;left: 50%;z-index: 0;}#sk-container-id-1 div.sk-serial {display: flex;flex-direction: column;align-items: center;background-color: white;padding-right: 0.2em;padding-left: 0.2em;position: relative;}#sk-container-id-1 div.sk-item {position: relative;z-index: 1;}#sk-container-id-1 div.sk-parallel {display: flex;align-items: stretch;justify-content: center;background-color: white;position: relative;}#sk-container-id-1 div.sk-item::before, #sk-container-id-1 div.sk-parallel-item::before {content: \"\";position: absolute;border-left: 1px solid gray;box-sizing: border-box;top: 0;bottom: 0;left: 50%;z-index: -1;}#sk-container-id-1 div.sk-parallel-item {display: flex;flex-direction: column;z-index: 1;position: relative;background-color: white;}#sk-container-id-1 div.sk-parallel-item:first-child::after {align-self: flex-end;width: 50%;}#sk-container-id-1 div.sk-parallel-item:last-child::after {align-self: flex-start;width: 50%;}#sk-container-id-1 div.sk-parallel-item:only-child::after {width: 0;}#sk-container-id-1 div.sk-dashed-wrapped {border: 1px dashed gray;margin: 0 0.4em 0.5em 0.4em;box-sizing: border-box;padding-bottom: 0.4em;background-color: white;}#sk-container-id-1 div.sk-label label {font-family: monospace;font-weight: bold;display: inline-block;line-height: 1.2em;}#sk-container-id-1 div.sk-label-container {text-align: center;}#sk-container-id-1 div.sk-container {/* jupyter's `normalize.less` sets `[hidden] { display: none; }` but bootstrap.min.css set `[hidden] { display: none !important; }` so we also need the `!important` here to be able to override the default hidden behavior on the sphinx rendered scikit-learn.org. See: https://github.com/scikit-learn/scikit-learn/issues/21755 */display: inline-block !important;position: relative;}#sk-container-id-1 div.sk-text-repr-fallback {display: none;}</style><div id=\"sk-container-id-1\" class=\"sk-top-container\"><div class=\"sk-text-repr-fallback\"><pre>KNeighborsClassifier(metric=&#x27;euclidean&#x27;)</pre><b>In a Jupyter environment, please rerun this cell to show the HTML representation or trust the notebook. <br />On GitHub, the HTML representation is unable to render, please try loading this page with nbviewer.org.</b></div><div class=\"sk-container\" hidden><div class=\"sk-item\"><div class=\"sk-estimator sk-toggleable\"><input class=\"sk-toggleable__control sk-hidden--visually\" id=\"sk-estimator-id-1\" type=\"checkbox\" checked><label for=\"sk-estimator-id-1\" class=\"sk-toggleable__label sk-toggleable__label-arrow\">KNeighborsClassifier</label><div class=\"sk-toggleable__content\"><pre>KNeighborsClassifier(metric=&#x27;euclidean&#x27;)</pre></div></div></div></div></div>"
            ]
          },
          "metadata": {},
          "execution_count": 20
        }
      ]
    },
    {
      "cell_type": "code",
      "source": [
        "y_pred = knn.predict(X_test)\n",
        "knn.score(X_test, y_test)"
      ],
      "metadata": {
        "colab": {
          "base_uri": "https://localhost:8080/"
        },
        "id": "5m6dmLsNTIbF",
        "outputId": "613a39de-a47b-474f-da38-e342585f4fee"
      },
      "execution_count": null,
      "outputs": [
        {
          "output_type": "execute_result",
          "data": {
            "text/plain": [
              "0.9545454545454546"
            ]
          },
          "metadata": {},
          "execution_count": 21
        }
      ]
    },
    {
      "cell_type": "code",
      "source": [
        "x_q = [X_test[50]]\n",
        "y_q = y_test[50]\n",
        "print(x_q)\n",
        "print(y_q)\n",
        "print(knn.predict(x_q))\n",
        "print(knn.predict_proba(x_q))\n",
        "print(knn.kneighbors(x_q))"
      ],
      "metadata": {
        "colab": {
          "base_uri": "https://localhost:8080/"
        },
        "id": "mvTtHsPrT5Y0",
        "outputId": "eab982f2-9460-48ab-8169-81ef39671ad7"
      },
      "execution_count": null,
      "outputs": [
        {
          "output_type": "stream",
          "name": "stdout",
          "text": [
            "[array([0.12263833, 1.24645031])]\n",
            "2\n",
            "[2]\n",
            "[[0. 1. 0.]]\n",
            "(array([[0.18070887, 0.32677292, 0.39396904, 0.41363633, 0.53038291]]), array([[101, 176, 108,  30, 130]]))\n"
          ]
        }
      ]
    },
    {
      "cell_type": "code",
      "source": [
        "import matplotlib.pyplot as plt\n",
        "# https://scikit-learn.org/stable/modules/generated/sklearn.inspection.DecisionBoundaryDisplay.html\n",
        "from sklearn.inspection import DecisionBoundaryDisplay\n",
        "# Plotting the boundaries\n",
        "disp = DecisionBoundaryDisplay.from_estimator(knn,\n",
        "                                              X_train,\n",
        "                                              response_method=\"predict\",\n",
        "                                              xlabel='f1', ylabel='f2',\n",
        "                                              cmap=plt.cm.coolwarm)\n",
        "\n",
        "# Plotting the data points\n",
        "disp.ax_.scatter(X_train[:, 0], X_train[:, 1],\n",
        "                 c=y_train, edgecolor=\"k\",\n",
        "                 cmap=plt.cm.coolwarm)\n",
        "\n",
        "\n",
        "plt.show()"
      ],
      "metadata": {
        "colab": {
          "base_uri": "https://localhost:8080/",
          "height": 449
        },
        "id": "JkVjGlpUx6ju",
        "outputId": "8fa1de6e-9520-41a5-a825-69327c1af940"
      },
      "execution_count": null,
      "outputs": [
        {
          "output_type": "display_data",
          "data": {
            "text/plain": [
              "<Figure size 640x480 with 1 Axes>"
            ],
            "image/png": "[encoded data removed]"
          },
          "metadata": {}
        }
      ]
    },
    {
      "cell_type": "code",
      "source": [
        "from sklearn.metrics import classification_report, confusion_matrix,ConfusionMatrixDisplay\n",
        "\n",
        "print(classification_report(y_test, y_pred))\n",
        "ConfusionMatrixDisplay(classification_report(y_test, y_pred))\n",
        "plt.show()"
      ],
      "metadata": {
        "colab": {
          "base_uri": "https://localhost:8080/"
        },
        "id": "hyM97iShTUon",
        "outputId": "5c9f1ce1-6d3d-4bc6-b733-8f6127f99d75"
      },
      "execution_count": null,
      "outputs": [
        {
          "output_type": "stream",
          "name": "stdout",
          "text": [
            "              precision    recall  f1-score   support\n",
            "\n",
            "           1       0.90      0.90      0.90        20\n",
            "           2       0.98      0.94      0.96        47\n",
            "           3       0.96      1.00      0.98        43\n",
            "\n",
            "    accuracy                           0.95       110\n",
            "   macro avg       0.94      0.95      0.94       110\n",
            "weighted avg       0.95      0.95      0.95       110\n",
            "\n"
          ]
        }
      ]
    },
    {
      "cell_type": "markdown",
      "source": [
        "## KNN imputation"
      ],
      "metadata": {
        "id": "rJAXX442gTLX"
      }
    },
    {
      "cell_type": "code",
      "source": [
        "!gdown 1vDIXh1yJxLpmgdh3gZGM6WX0u3GCPuIS\n",
        "import pandas as pd\n",
        "import numpy as np\n",
        "\n",
        "df_imp = pd.read_csv('knn_imputation.csv')\n",
        "df_imp.drop(['Unnamed: 0'],axis=1,inplace=True)\n",
        "print(df_imp.shape)\n",
        "df_imp.head()"
      ],
      "metadata": {
        "colab": {
          "base_uri": "https://localhost:8080/",
          "height": 293
        },
        "id": "lS4kCATlgUg-",
        "outputId": "53d76a81-0618-403e-c351-c103809cbbed"
      },
      "execution_count": null,
      "outputs": [
        {
          "output_type": "stream",
          "name": "stdout",
          "text": [
            "Downloading...\n",
            "From: https://drive.google.com/uc?id=1vDIXh1yJxLpmgdh3gZGM6WX0u3GCPuIS\n",
            "To: /content/knn_imputation.csv\n",
            "\r  0% 0.00/12.9k [00:00<?, ?B/s]\r100% 12.9k/12.9k [00:00<00:00, 27.1MB/s]\n",
            "(267, 7)\n"
          ]
        },
        {
          "output_type": "execute_result",
          "data": {
            "text/plain": [
              "   Region    Fresh    Milk  Grocery  Frozen  Detergents_Paper  Delicassen\n",
              "0     3.0  12669.0  9656.0   7561.0   214.0            2674.0      1338.0\n",
              "1     3.0   7057.0  9810.0   9568.0  1762.0            3293.0      1776.0\n",
              "2     3.0   6353.0  8808.0      NaN  2405.0            3516.0      7844.0\n",
              "3     3.0  13265.0  1196.0   4221.0  6404.0             507.0      1788.0\n",
              "4     3.0  22615.0  5410.0   7198.0  3915.0            1777.0      5185.0"
            ],
            "text/html": [
              "\n",
              "  <div id=\"df-b13da7a9-b1af-4cc7-8ac9-03f7c66f2596\" class=\"colab-df-container\">\n",
              "    <div>\n",
              "<style scoped>\n",
              "    .dataframe tbody tr th:only-of-type {\n",
              "        vertical-align: middle;\n",
              "    }\n",
              "\n",
              "    .dataframe tbody tr th {\n",
              "        vertical-align: top;\n",
              "    }\n",
              "\n",
              "    .dataframe thead th {\n",
              "        text-align: right;\n",
              "    }\n",
              "</style>\n",
              "<table border=\"1\" class=\"dataframe\">\n",
              "  <thead>\n",
              "    <tr style=\"text-align: right;\">\n",
              "      <th></th>\n",
              "      <th>Region</th>\n",
              "      <th>Fresh</th>\n",
              "      <th>Milk</th>\n",
              "      <th>Grocery</th>\n",
              "      <th>Frozen</th>\n",
              "      <th>Detergents_Paper</th>\n",
              "      <th>Delicassen</th>\n",
              "    </tr>\n",
              "  </thead>\n",
              "  <tbody>\n",
              "    <tr>\n",
              "      <th>0</th>\n",
              "      <td>3.0</td>\n",
              "      <td>12669.0</td>\n",
              "      <td>9656.0</td>\n",
              "      <td>7561.0</td>\n",
              "      <td>214.0</td>\n",
              "      <td>2674.0</td>\n",
              "      <td>1338.0</td>\n",
              "    </tr>\n",
              "    <tr>\n",
              "      <th>1</th>\n",
              "      <td>3.0</td>\n",
              "      <td>7057.0</td>\n",
              "      <td>9810.0</td>\n",
              "      <td>9568.0</td>\n",
              "      <td>1762.0</td>\n",
              "      <td>3293.0</td>\n",
              "      <td>1776.0</td>\n",
              "    </tr>\n",
              "    <tr>\n",
              "      <th>2</th>\n",
              "      <td>3.0</td>\n",
              "      <td>6353.0</td>\n",
              "      <td>8808.0</td>\n",
              "      <td>NaN</td>\n",
              "      <td>2405.0</td>\n",
              "      <td>3516.0</td>\n",
              "      <td>7844.0</td>\n",
              "    </tr>\n",
              "    <tr>\n",
              "      <th>3</th>\n",
              "      <td>3.0</td>\n",
              "      <td>13265.0</td>\n",
              "      <td>1196.0</td>\n",
              "      <td>4221.0</td>\n",
              "      <td>6404.0</td>\n",
              "      <td>507.0</td>\n",
              "      <td>1788.0</td>\n",
              "    </tr>\n",
              "    <tr>\n",
              "      <th>4</th>\n",
              "      <td>3.0</td>\n",
              "      <td>22615.0</td>\n",
              "      <td>5410.0</td>\n",
              "      <td>7198.0</td>\n",
              "      <td>3915.0</td>\n",
              "      <td>1777.0</td>\n",
              "      <td>5185.0</td>\n",
              "    </tr>\n",
              "  </tbody>\n",
              "</table>\n",
              "</div>\n",
              "    <div class=\"colab-df-buttons\">\n",
              "\n",
              "  <div class=\"colab-df-container\">\n",
              "    <button class=\"colab-df-convert\" onclick=\"convertToInteractive('df-b13da7a9-b1af-4cc7-8ac9-03f7c66f2596')\"\n",
              "            title=\"Convert this dataframe to an interactive table.\"\n",
              "            style=\"display:none;\">\n",
              "\n",
              "  <svg xmlns=\"http://www.w3.org/2000/svg\" height=\"24px\" viewBox=\"0 -960 960 960\">\n",
              "    <path d=\"M120-120v-720h720v720H120Zm60-500h600v-160H180v160Zm220 220h160v-160H400v160Zm0 220h160v-160H400v160ZM180-400h160v-160H180v160Zm440 0h160v-160H620v160ZM180-180h160v-160H180v160Zm440 0h160v-160H620v160Z\"/>\n",
              "  </svg>\n",
              "    </button>\n",
              "\n",
              "  <style>\n",
              "    .colab-df-container {\n",
              "      display:flex;\n",
              "      gap: 12px;\n",
              "    }\n",
              "\n",
              "    .colab-df-convert {\n",
              "      background-color: #E8F0FE;\n",
              "      border: none;\n",
              "      border-radius: 50%;\n",
              "      cursor: pointer;\n",
              "      display: none;\n",
              "      fill: #1967D2;\n",
              "      height: 32px;\n",
              "      padding: 0 0 0 0;\n",
              "      width: 32px;\n",
              "    }\n",
              "\n",
              "    .colab-df-convert:hover {\n",
              "      background-color: #E2EBFA;\n",
              "      box-shadow: 0px 1px 2px rgba(60, 64, 67, 0.3), 0px 1px 3px 1px rgba(60, 64, 67, 0.15);\n",
              "      fill: #174EA6;\n",
              "    }\n",
              "\n",
              "    .colab-df-buttons div {\n",
              "      margin-bottom: 4px;\n",
              "    }\n",
              "\n",
              "    [theme=dark] .colab-df-convert {\n",
              "      background-color: #3B4455;\n",
              "      fill: #D2E3FC;\n",
              "    }\n",
              "\n",
              "    [theme=dark] .colab-df-convert:hover {\n",
              "      background-color: #434B5C;\n",
              "      box-shadow: 0px 1px 3px 1px rgba(0, 0, 0, 0.15);\n",
              "      filter: drop-shadow(0px 1px 2px rgba(0, 0, 0, 0.3));\n",
              "      fill: #FFFFFF;\n",
              "    }\n",
              "  </style>\n",
              "\n",
              "    <script>\n",
              "      const buttonEl =\n",
              "        document.querySelector('#df-b13da7a9-b1af-4cc7-8ac9-03f7c66f2596 button.colab-df-convert');\n",
              "      buttonEl.style.display =\n",
              "        google.colab.kernel.accessAllowed ? 'block' : 'none';\n",
              "\n",
              "      async function convertToInteractive(key) {\n",
              "        const element = document.querySelector('#df-b13da7a9-b1af-4cc7-8ac9-03f7c66f2596');\n",
              "        const dataTable =\n",
              "          await google.colab.kernel.invokeFunction('convertToInteractive',\n",
              "                                                    [key], {});\n",
              "        if (!dataTable) return;\n",
              "\n",
              "        const docLinkHtml = 'Like what you see? Visit the ' +\n",
              "          '<a target=\"_blank\" href=https://colab.research.google.com/notebooks/data_table.ipynb>data table notebook</a>'\n",
              "          + ' to learn more about interactive tables.';\n",
              "        element.innerHTML = '';\n",
              "        dataTable['output_type'] = 'display_data';\n",
              "        await google.colab.output.renderOutput(dataTable, element);\n",
              "        const docLink = document.createElement('div');\n",
              "        docLink.innerHTML = docLinkHtml;\n",
              "        element.appendChild(docLink);\n",
              "      }\n",
              "    </script>\n",
              "  </div>\n",
              "\n",
              "\n",
              "<div id=\"df-b03b3115-b191-420b-a80f-2070bbedf01b\">\n",
              "  <button class=\"colab-df-quickchart\" onclick=\"quickchart('df-b03b3115-b191-420b-a80f-2070bbedf01b')\"\n",
              "            title=\"Suggest charts\"\n",
              "            style=\"display:none;\">\n",
              "\n",
              "<svg xmlns=\"http://www.w3.org/2000/svg\" height=\"24px\"viewBox=\"0 0 24 24\"\n",
              "     width=\"24px\">\n",
              "    <g>\n",
              "        <path d=\"M19 3H5c-1.1 0-2 .9-2 2v14c0 1.1.9 2 2 2h14c1.1 0 2-.9 2-2V5c0-1.1-.9-2-2-2zM9 17H7v-7h2v7zm4 0h-2V7h2v10zm4 0h-2v-4h2v4z\"/>\n",
              "    </g>\n",
              "</svg>\n",
              "  </button>\n",
              "\n",
              "<style>\n",
              "  .colab-df-quickchart {\n",
              "      --bg-color: #E8F0FE;\n",
              "      --fill-color: #1967D2;\n",
              "      --hover-bg-color: #E2EBFA;\n",
              "      --hover-fill-color: #174EA6;\n",
              "      --disabled-fill-color: #AAA;\n",
              "      --disabled-bg-color: #DDD;\n",
              "  }\n",
              "\n",
              "  [theme=dark] .colab-df-quickchart {\n",
              "      --bg-color: #3B4455;\n",
              "      --fill-color: #D2E3FC;\n",
              "      --hover-bg-color: #434B5C;\n",
              "      --hover-fill-color: #FFFFFF;\n",
              "      --disabled-bg-color: #3B4455;\n",
              "      --disabled-fill-color: #666;\n",
              "  }\n",
              "\n",
              "  .colab-df-quickchart {\n",
              "    background-color: var(--bg-color);\n",
              "    border: none;\n",
              "    border-radius: 50%;\n",
              "    cursor: pointer;\n",
              "    display: none;\n",
              "    fill: var(--fill-color);\n",
              "    height: 32px;\n",
              "    padding: 0;\n",
              "    width: 32px;\n",
              "  }\n",
              "\n",
              "  .colab-df-quickchart:hover {\n",
              "    background-color: var(--hover-bg-color);\n",
              "    box-shadow: 0 1px 2px rgba(60, 64, 67, 0.3), 0 1px 3px 1px rgba(60, 64, 67, 0.15);\n",
              "    fill: var(--button-hover-fill-color);\n",
              "  }\n",
              "\n",
              "  .colab-df-quickchart-complete:disabled,\n",
              "  .colab-df-quickchart-complete:disabled:hover {\n",
              "    background-color: var(--disabled-bg-color);\n",
              "    fill: var(--disabled-fill-color);\n",
              "    box-shadow: none;\n",
              "  }\n",
              "\n",
              "  .colab-df-spinner {\n",
              "    border: 2px solid var(--fill-color);\n",
              "    border-color: transparent;\n",
              "    border-bottom-color: var(--fill-color);\n",
              "    animation:\n",
              "      spin 1s steps(1) infinite;\n",
              "  }\n",
              "\n",
              "  @keyframes spin {\n",
              "    0% {\n",
              "      border-color: transparent;\n",
              "      border-bottom-color: var(--fill-color);\n",
              "      border-left-color: var(--fill-color);\n",
              "    }\n",
              "    20% {\n",
              "      border-color: transparent;\n",
              "      border-left-color: var(--fill-color);\n",
              "      border-top-color: var(--fill-color);\n",
              "    }\n",
              "    30% {\n",
              "      border-color: transparent;\n",
              "      border-left-color: var(--fill-color);\n",
              "      border-top-color: var(--fill-color);\n",
              "      border-right-color: var(--fill-color);\n",
              "    }\n",
              "    40% {\n",
              "      border-color: transparent;\n",
              "      border-right-color: var(--fill-color);\n",
              "      border-top-color: var(--fill-color);\n",
              "    }\n",
              "    60% {\n",
              "      border-color: transparent;\n",
              "      border-right-color: var(--fill-color);\n",
              "    }\n",
              "    80% {\n",
              "      border-color: transparent;\n",
              "      border-right-color: var(--fill-color);\n",
              "      border-bottom-color: var(--fill-color);\n",
              "    }\n",
              "    90% {\n",
              "      border-color: transparent;\n",
              "      border-bottom-color: var(--fill-color);\n",
              "    }\n",
              "  }\n",
              "</style>\n",
              "\n",
              "  <script>\n",
              "    async function quickchart(key) {\n",
              "      const quickchartButtonEl =\n",
              "        document.querySelector('#' + key + ' button');\n",
              "      quickchartButtonEl.disabled = true;  // To prevent multiple clicks.\n",
              "      quickchartButtonEl.classList.add('colab-df-spinner');\n",
              "      try {\n",
              "        const charts = await google.colab.kernel.invokeFunction(\n",
              "            'suggestCharts', [key], {});\n",
              "      } catch (error) {\n",
              "        console.error('Error during call to suggestCharts:', error);\n",
              "      }\n",
              "      quickchartButtonEl.classList.remove('colab-df-spinner');\n",
              "      quickchartButtonEl.classList.add('colab-df-quickchart-complete');\n",
              "    }\n",
              "    (() => {\n",
              "      let quickchartButtonEl =\n",
              "        document.querySelector('#df-b03b3115-b191-420b-a80f-2070bbedf01b button');\n",
              "      quickchartButtonEl.style.display =\n",
              "        google.colab.kernel.accessAllowed ? 'block' : 'none';\n",
              "    })();\n",
              "  </script>\n",
              "</div>\n",
              "\n",
              "    </div>\n",
              "  </div>\n"
            ]
          },
          "metadata": {},
          "execution_count": 25
        }
      ]
    },
    {
      "cell_type": "code",
      "source": [
        "df_imp.isna().sum()"
      ],
      "metadata": {
        "colab": {
          "base_uri": "https://localhost:8080/"
        },
        "id": "FdoZryFIgc7-",
        "outputId": "e950581d-69c8-4256-e095-f2f313bcc529"
      },
      "execution_count": null,
      "outputs": [
        {
          "output_type": "execute_result",
          "data": {
            "text/plain": [
              "Region               8\n",
              "Fresh               13\n",
              "Milk                15\n",
              "Grocery              9\n",
              "Frozen               8\n",
              "Detergents_Paper    10\n",
              "Delicassen          11\n",
              "dtype: int64"
            ]
          },
          "metadata": {},
          "execution_count": 26
        }
      ]
    },
    {
      "cell_type": "code",
      "source": [
        "from sklearn.pipeline import Pipeline\n",
        "from sklearn.impute import KNNImputer\n",
        "from sklearn.preprocessing import StandardScaler\n",
        "\n",
        "# Create the pipeline\n",
        "pipeline = Pipeline([\n",
        "    ('scaler', StandardScaler()),  # Step 1: StandardScaler for feature scaling\n",
        "    ('imputer', KNNImputer(n_neighbors=5))  # Step 2: KNNImputer for missing value imputation\n",
        "])\n",
        "\n",
        "# Fit and transform the data using the pipeline\n",
        "X_transformed = pipeline.fit_transform(df_imp)\n",
        "\n",
        "# Creating dataframe\n",
        "X_transformed = pd.DataFrame(X_transformed,columns=df_imp.columns)\n",
        "\n",
        "X_transformed.head()"
      ],
      "metadata": {
        "colab": {
          "base_uri": "https://localhost:8080/",
          "height": 206
        },
        "id": "em4naVyCggk1",
        "outputId": "edff6640-9a53-438c-a8fe-6af708817aae"
      },
      "execution_count": null,
      "outputs": [
        {
          "output_type": "execute_result",
          "data": {
            "text/plain": [
              "     Region     Fresh      Milk   Grocery    Frozen  Detergents_Paper  \\\n",
              "0  0.555438 -0.233395  0.187310 -0.319038 -0.554681         -0.272830   \n",
              "1  0.555438 -0.616431  0.204632 -0.139260 -0.281917         -0.165147   \n",
              "2  0.555438 -0.664481  0.091925  0.200717 -0.168617         -0.126353   \n",
              "3  0.555438 -0.192716 -0.764292 -0.618222  0.536025         -0.649809   \n",
              "4  0.555438  0.445450 -0.290291 -0.351554  0.097452         -0.428875   \n",
              "\n",
              "   Delicassen  \n",
              "0   -0.175386  \n",
              "1   -0.051741  \n",
              "2    1.661231  \n",
              "3   -0.048353  \n",
              "4    0.910606  "
            ],
            "text/html": [
              "\n",
              "  <div id=\"df-b41bc9ed-c983-4fee-b120-11f1782c8ec6\" class=\"colab-df-container\">\n",
              "    <div>\n",
              "<style scoped>\n",
              "    .dataframe tbody tr th:only-of-type {\n",
              "        vertical-align: middle;\n",
              "    }\n",
              "\n",
              "    .dataframe tbody tr th {\n",
              "        vertical-align: top;\n",
              "    }\n",
              "\n",
              "    .dataframe thead th {\n",
              "        text-align: right;\n",
              "    }\n",
              "</style>\n",
              "<table border=\"1\" class=\"dataframe\">\n",
              "  <thead>\n",
              "    <tr style=\"text-align: right;\">\n",
              "      <th></th>\n",
              "      <th>Region</th>\n",
              "      <th>Fresh</th>\n",
              "      <th>Milk</th>\n",
              "      <th>Grocery</th>\n",
              "      <th>Frozen</th>\n",
              "      <th>Detergents_Paper</th>\n",
              "      <th>Delicassen</th>\n",
              "    </tr>\n",
              "  </thead>\n",
              "  <tbody>\n",
              "    <tr>\n",
              "      <th>0</th>\n",
              "      <td>0.555438</td>\n",
              "      <td>-0.233395</td>\n",
              "      <td>0.187310</td>\n",
              "      <td>-0.319038</td>\n",
              "      <td>-0.554681</td>\n",
              "      <td>-0.272830</td>\n",
              "      <td>-0.175386</td>\n",
              "    </tr>\n",
              "    <tr>\n",
              "      <th>1</th>\n",
              "      <td>0.555438</td>\n",
              "      <td>-0.616431</td>\n",
              "      <td>0.204632</td>\n",
              "      <td>-0.139260</td>\n",
              "      <td>-0.281917</td>\n",
              "      <td>-0.165147</td>\n",
              "      <td>-0.051741</td>\n",
              "    </tr>\n",
              "    <tr>\n",
              "      <th>2</th>\n",
              "      <td>0.555438</td>\n",
              "      <td>-0.664481</td>\n",
              "      <td>0.091925</td>\n",
              "      <td>0.200717</td>\n",
              "      <td>-0.168617</td>\n",
              "      <td>-0.126353</td>\n",
              "      <td>1.661231</td>\n",
              "    </tr>\n",
              "    <tr>\n",
              "      <th>3</th>\n",
              "      <td>0.555438</td>\n",
              "      <td>-0.192716</td>\n",
              "      <td>-0.764292</td>\n",
              "      <td>-0.618222</td>\n",
              "      <td>0.536025</td>\n",
              "      <td>-0.649809</td>\n",
              "      <td>-0.048353</td>\n",
              "    </tr>\n",
              "    <tr>\n",
              "      <th>4</th>\n",
              "      <td>0.555438</td>\n",
              "      <td>0.445450</td>\n",
              "      <td>-0.290291</td>\n",
              "      <td>-0.351554</td>\n",
              "      <td>0.097452</td>\n",
              "      <td>-0.428875</td>\n",
              "      <td>0.910606</td>\n",
              "    </tr>\n",
              "  </tbody>\n",
              "</table>\n",
              "</div>\n",
              "    <div class=\"colab-df-buttons\">\n",
              "\n",
              "  <div class=\"colab-df-container\">\n",
              "    <button class=\"colab-df-convert\" onclick=\"convertToInteractive('df-b41bc9ed-c983-4fee-b120-11f1782c8ec6')\"\n",
              "            title=\"Convert this dataframe to an interactive table.\"\n",
              "            style=\"display:none;\">\n",
              "\n",
              "  <svg xmlns=\"http://www.w3.org/2000/svg\" height=\"24px\" viewBox=\"0 -960 960 960\">\n",
              "    <path d=\"M120-120v-720h720v720H120Zm60-500h600v-160H180v160Zm220 220h160v-160H400v160Zm0 220h160v-160H400v160ZM180-400h160v-160H180v160Zm440 0h160v-160H620v160ZM180-180h160v-160H180v160Zm440 0h160v-160H620v160Z\"/>\n",
              "  </svg>\n",
              "    </button>\n",
              "\n",
              "  <style>\n",
              "    .colab-df-container {\n",
              "      display:flex;\n",
              "      gap: 12px;\n",
              "    }\n",
              "\n",
              "    .colab-df-convert {\n",
              "      background-color: #E8F0FE;\n",
              "      border: none;\n",
              "      border-radius: 50%;\n",
              "      cursor: pointer;\n",
              "      display: none;\n",
              "      fill: #1967D2;\n",
              "      height: 32px;\n",
              "      padding: 0 0 0 0;\n",
              "      width: 32px;\n",
              "    }\n",
              "\n",
              "    .colab-df-convert:hover {\n",
              "      background-color: #E2EBFA;\n",
              "      box-shadow: 0px 1px 2px rgba(60, 64, 67, 0.3), 0px 1px 3px 1px rgba(60, 64, 67, 0.15);\n",
              "      fill: #174EA6;\n",
              "    }\n",
              "\n",
              "    .colab-df-buttons div {\n",
              "      margin-bottom: 4px;\n",
              "    }\n",
              "\n",
              "    [theme=dark] .colab-df-convert {\n",
              "      background-color: #3B4455;\n",
              "      fill: #D2E3FC;\n",
              "    }\n",
              "\n",
              "    [theme=dark] .colab-df-convert:hover {\n",
              "      background-color: #434B5C;\n",
              "      box-shadow: 0px 1px 3px 1px rgba(0, 0, 0, 0.15);\n",
              "      filter: drop-shadow(0px 1px 2px rgba(0, 0, 0, 0.3));\n",
              "      fill: #FFFFFF;\n",
              "    }\n",
              "  </style>\n",
              "\n",
              "    <script>\n",
              "      const buttonEl =\n",
              "        document.querySelector('#df-b41bc9ed-c983-4fee-b120-11f1782c8ec6 button.colab-df-convert');\n",
              "      buttonEl.style.display =\n",
              "        google.colab.kernel.accessAllowed ? 'block' : 'none';\n",
              "\n",
              "      async function convertToInteractive(key) {\n",
              "        const element = document.querySelector('#df-b41bc9ed-c983-4fee-b120-11f1782c8ec6');\n",
              "        const dataTable =\n",
              "          await google.colab.kernel.invokeFunction('convertToInteractive',\n",
              "                                                    [key], {});\n",
              "        if (!dataTable) return;\n",
              "\n",
              "        const docLinkHtml = 'Like what you see? Visit the ' +\n",
              "          '<a target=\"_blank\" href=https://colab.research.google.com/notebooks/data_table.ipynb>data table notebook</a>'\n",
              "          + ' to learn more about interactive tables.';\n",
              "        element.innerHTML = '';\n",
              "        dataTable['output_type'] = 'display_data';\n",
              "        await google.colab.output.renderOutput(dataTable, element);\n",
              "        const docLink = document.createElement('div');\n",
              "        docLink.innerHTML = docLinkHtml;\n",
              "        element.appendChild(docLink);\n",
              "      }\n",
              "    </script>\n",
              "  </div>\n",
              "\n",
              "\n",
              "<div id=\"df-a6d94fde-61e6-48f1-815f-18680c9b7646\">\n",
              "  <button class=\"colab-df-quickchart\" onclick=\"quickchart('df-a6d94fde-61e6-48f1-815f-18680c9b7646')\"\n",
              "            title=\"Suggest charts\"\n",
              "            style=\"display:none;\">\n",
              "\n",
              "<svg xmlns=\"http://www.w3.org/2000/svg\" height=\"24px\"viewBox=\"0 0 24 24\"\n",
              "     width=\"24px\">\n",
              "    <g>\n",
              "        <path d=\"M19 3H5c-1.1 0-2 .9-2 2v14c0 1.1.9 2 2 2h14c1.1 0 2-.9 2-2V5c0-1.1-.9-2-2-2zM9 17H7v-7h2v7zm4 0h-2V7h2v10zm4 0h-2v-4h2v4z\"/>\n",
              "    </g>\n",
              "</svg>\n",
              "  </button>\n",
              "\n",
              "<style>\n",
              "  .colab-df-quickchart {\n",
              "      --bg-color: #E8F0FE;\n",
              "      --fill-color: #1967D2;\n",
              "      --hover-bg-color: #E2EBFA;\n",
              "      --hover-fill-color: #174EA6;\n",
              "      --disabled-fill-color: #AAA;\n",
              "      --disabled-bg-color: #DDD;\n",
              "  }\n",
              "\n",
              "  [theme=dark] .colab-df-quickchart {\n",
              "      --bg-color: #3B4455;\n",
              "      --fill-color: #D2E3FC;\n",
              "      --hover-bg-color: #434B5C;\n",
              "      --hover-fill-color: #FFFFFF;\n",
              "      --disabled-bg-color: #3B4455;\n",
              "      --disabled-fill-color: #666;\n",
              "  }\n",
              "\n",
              "  .colab-df-quickchart {\n",
              "    background-color: var(--bg-color);\n",
              "    border: none;\n",
              "    border-radius: 50%;\n",
              "    cursor: pointer;\n",
              "    display: none;\n",
              "    fill: var(--fill-color);\n",
              "    height: 32px;\n",
              "    padding: 0;\n",
              "    width: 32px;\n",
              "  }\n",
              "\n",
              "  .colab-df-quickchart:hover {\n",
              "    background-color: var(--hover-bg-color);\n",
              "    box-shadow: 0 1px 2px rgba(60, 64, 67, 0.3), 0 1px 3px 1px rgba(60, 64, 67, 0.15);\n",
              "    fill: var(--button-hover-fill-color);\n",
              "  }\n",
              "\n",
              "  .colab-df-quickchart-complete:disabled,\n",
              "  .colab-df-quickchart-complete:disabled:hover {\n",
              "    background-color: var(--disabled-bg-color);\n",
              "    fill: var(--disabled-fill-color);\n",
              "    box-shadow: none;\n",
              "  }\n",
              "\n",
              "  .colab-df-spinner {\n",
              "    border: 2px solid var(--fill-color);\n",
              "    border-color: transparent;\n",
              "    border-bottom-color: var(--fill-color);\n",
              "    animation:\n",
              "      spin 1s steps(1) infinite;\n",
              "  }\n",
              "\n",
              "  @keyframes spin {\n",
              "    0% {\n",
              "      border-color: transparent;\n",
              "      border-bottom-color: var(--fill-color);\n",
              "      border-left-color: var(--fill-color);\n",
              "    }\n",
              "    20% {\n",
              "      border-color: transparent;\n",
              "      border-left-color: var(--fill-color);\n",
              "      border-top-color: var(--fill-color);\n",
              "    }\n",
              "    30% {\n",
              "      border-color: transparent;\n",
              "      border-left-color: var(--fill-color);\n",
              "      border-top-color: var(--fill-color);\n",
              "      border-right-color: var(--fill-color);\n",
              "    }\n",
              "    40% {\n",
              "      border-color: transparent;\n",
              "      border-right-color: var(--fill-color);\n",
              "      border-top-color: var(--fill-color);\n",
              "    }\n",
              "    60% {\n",
              "      border-color: transparent;\n",
              "      border-right-color: var(--fill-color);\n",
              "    }\n",
              "    80% {\n",
              "      border-color: transparent;\n",
              "      border-right-color: var(--fill-color);\n",
              "      border-bottom-color: var(--fill-color);\n",
              "    }\n",
              "    90% {\n",
              "      border-color: transparent;\n",
              "      border-bottom-color: var(--fill-color);\n",
              "    }\n",
              "  }\n",
              "</style>\n",
              "\n",
              "  <script>\n",
              "    async function quickchart(key) {\n",
              "      const quickchartButtonEl =\n",
              "        document.querySelector('#' + key + ' button');\n",
              "      quickchartButtonEl.disabled = true;  // To prevent multiple clicks.\n",
              "      quickchartButtonEl.classList.add('colab-df-spinner');\n",
              "      try {\n",
              "        const charts = await google.colab.kernel.invokeFunction(\n",
              "            'suggestCharts', [key], {});\n",
              "      } catch (error) {\n",
              "        console.error('Error during call to suggestCharts:', error);\n",
              "      }\n",
              "      quickchartButtonEl.classList.remove('colab-df-spinner');\n",
              "      quickchartButtonEl.classList.add('colab-df-quickchart-complete');\n",
              "    }\n",
              "    (() => {\n",
              "      let quickchartButtonEl =\n",
              "        document.querySelector('#df-a6d94fde-61e6-48f1-815f-18680c9b7646 button');\n",
              "      quickchartButtonEl.style.display =\n",
              "        google.colab.kernel.accessAllowed ? 'block' : 'none';\n",
              "    })();\n",
              "  </script>\n",
              "</div>\n",
              "\n",
              "    </div>\n",
              "  </div>\n"
            ]
          },
          "metadata": {},
          "execution_count": 27
        }
      ]
    },
    {
      "cell_type": "code",
      "source": [
        "X_transformed.isna().sum()"
      ],
      "metadata": {
        "colab": {
          "base_uri": "https://localhost:8080/"
        },
        "id": "dWt5TdtsgoB2",
        "outputId": "b99b7fa1-6d68-4758-d68f-9124081582e4"
      },
      "execution_count": null,
      "outputs": [
        {
          "output_type": "execute_result",
          "data": {
            "text/plain": [
              "Region              0\n",
              "Fresh               0\n",
              "Milk                0\n",
              "Grocery             0\n",
              "Frozen              0\n",
              "Detergents_Paper    0\n",
              "Delicassen          0\n",
              "dtype: int64"
            ]
          },
          "metadata": {},
          "execution_count": 28
        }
      ]
    },
    {
      "cell_type": "code",
      "source": [],
      "metadata": {
        "id": "M28ZU26tgpZ9"
      },
      "execution_count": null,
      "outputs": []
    }
  ]
}