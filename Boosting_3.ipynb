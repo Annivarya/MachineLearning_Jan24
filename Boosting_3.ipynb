{
  "nbformat": 4,
  "nbformat_minor": 0,
  "metadata": {
    "colab": {
      "provenance": [],
      "authorship_tag": "ABX9TyPndk2DvMZgUPF12/Cr8tnx",
      "include_colab_link": true
    },
    "kernelspec": {
      "name": "python3",
      "display_name": "Python 3"
    },
    "language_info": {
      "name": "python"
    }
  },
  "cells": [
    {
      "cell_type": "markdown",
      "metadata": {
        "id": "view-in-github",
        "colab_type": "text"
      },
      "source": [
        "<a href=\"https://colab.research.google.com/github/SachinScaler/MachineLearning_Jan24/blob/main/Boosting_3.ipynb\" target=\"_parent\"><img src=\"https://colab.research.google.com/assets/colab-badge.svg\" alt=\"Open In Colab\"/></a>"
      ]
    },
    {
      "cell_type": "code",
      "source": [
        "!git clone https://github.com/SachinScaler/MachineLearning_Jan24.git"
      ],
      "metadata": {
        "colab": {
          "base_uri": "https://localhost:8080/"
        },
        "id": "XgewFq3Eb9_-",
        "outputId": "f1d49a32-c9f3-4532-a9ca-0a2eb275300e"
      },
      "execution_count": 1,
      "outputs": [
        {
          "output_type": "stream",
          "name": "stdout",
          "text": [
            "Cloning into 'MachineLearning_Jan24'...\n",
            "remote: Enumerating objects: 54, done.\u001b[K\n",
            "remote: Counting objects: 100% (54/54), done.\u001b[K\n",
            "remote: Compressing objects: 100% (52/52), done.\u001b[K\n",
            "remote: Total 54 (delta 15), reused 0 (delta 0), pack-reused 0\u001b[K\n",
            "Receiving objects: 100% (54/54), 26.35 MiB | 16.84 MiB/s, done.\n",
            "Resolving deltas: 100% (15/15), done.\n"
          ]
        }
      ]
    },
    {
      "cell_type": "code",
      "source": [
        "# !gdown 171Yoe_GSapyrmOnD9oBzHWNOD_OnQs0F\n",
        "# !gdown 1hnIlTPW3AMeB69EbeaXCRIrpMVT1Vwmc\n",
        "# !gdown 1nZtB_RtxMg_MgoRczb8UWQX-AEK_l3qE\n",
        "# !gdown 1zLDUErwKdmF-RacOyHEuI_z_46LssQtP"
      ],
      "metadata": {
        "id": "_coxRLx7cE2R"
      },
      "execution_count": 2,
      "outputs": []
    },
    {
      "cell_type": "code",
      "execution_count": 2,
      "metadata": {
        "id": "QnLISRq3aa1T"
      },
      "outputs": [],
      "source": [
        "import pickle\n",
        "\n",
        "with open('/content/MachineLearning_Jan24/emg_data/X_train.pickle', 'rb') as handle:\n",
        "    X_train = pickle.load(handle)\n",
        "\n",
        "with open('/content/MachineLearning_Jan24/emg_data/X_test.pickle', 'rb') as handle:\n",
        "    X_test = pickle.load(handle)\n",
        "\n",
        "with open('/content/MachineLearning_Jan24/emg_data/Y_train.pickle', 'rb') as handle:\n",
        "    y_train = pickle.load(handle)\n",
        "\n",
        "with open('/content/MachineLearning_Jan24/emg_data/Y_test.pickle', 'rb') as handle:\n",
        "    y_test = pickle.load(handle)"
      ]
    },
    {
      "cell_type": "code",
      "source": [
        "from sklearn.ensemble import RandomForestClassifier\n",
        "from sklearn import tree\n",
        "from sklearn.model_selection import GridSearchCV,RandomizedSearchCV\n",
        "from time import time\n",
        "\n",
        "\n",
        "# takes any model and set of params, calculates time taken to fit RSCV, return the fitted clf\n",
        "def fit_and_return_model(model, params):\n",
        "    start = time() # log the starting time\n",
        "    # define randomsearch cv\n",
        "    cls=RandomizedSearchCV(model, params, scoring = \"accuracy\", cv=3, n_jobs = -1, verbose = 1)\n",
        "    cls.fit(X_train, y_train)\n",
        "    end = time() # logs the end time\n",
        "    print(\"Time Taken:\", end-start) # Total time taken\n",
        "    return cls\n",
        "\n",
        "params = {\n",
        "    \"n_estimators\": [50,100,150,200],\n",
        "    \"max_depth\" : [3, 4, 5, 7],\n",
        "    \"max_leaf_nodes\" : [20, 40, 80],\n",
        "}\n",
        "\n",
        "model = RandomForestClassifier() # change the model as per requirement\n",
        "clf=fit_and_return_model(model, params)"
      ],
      "metadata": {
        "colab": {
          "base_uri": "https://localhost:8080/"
        },
        "id": "aBnotrOCafrR",
        "outputId": "42787712-ddfe-415a-8fc5-4dd4788efd61"
      },
      "execution_count": 3,
      "outputs": [
        {
          "output_type": "stream",
          "name": "stdout",
          "text": [
            "Fitting 3 folds for each of 10 candidates, totalling 30 fits\n",
            "Time Taken: 67.10795092582703\n"
          ]
        }
      ]
    },
    {
      "cell_type": "code",
      "source": [
        "res = clf.cv_results_\n",
        "for i in range(len(res[\"params\"])):\n",
        "  print(f\"Parameters:{res['params'][i]} Mean_score: {res['mean_test_score'][i]} Rank: {res['rank_test_score'][i]}\")"
      ],
      "metadata": {
        "colab": {
          "base_uri": "https://localhost:8080/"
        },
        "id": "BTiy6AYVeEgN",
        "outputId": "b653e102-513b-49be-85d2-193552dc0c22"
      },
      "execution_count": 4,
      "outputs": [
        {
          "output_type": "stream",
          "name": "stdout",
          "text": [
            "Parameters:{'n_estimators': 200, 'max_leaf_nodes': 80, 'max_depth': 4} Mean_score: 0.7366184677828514 Rank: 5\n",
            "Parameters:{'n_estimators': 50, 'max_leaf_nodes': 20, 'max_depth': 4} Mean_score: 0.7210806697108066 Rank: 8\n",
            "Parameters:{'n_estimators': 150, 'max_leaf_nodes': 20, 'max_depth': 7} Mean_score: 0.7966133942161339 Rank: 3\n",
            "Parameters:{'n_estimators': 50, 'max_leaf_nodes': 80, 'max_depth': 3} Mean_score: 0.6629249112125825 Rank: 9\n",
            "Parameters:{'n_estimators': 150, 'max_leaf_nodes': 20, 'max_depth': 4} Mean_score: 0.7350963977676307 Rank: 7\n",
            "Parameters:{'n_estimators': 200, 'max_leaf_nodes': 20, 'max_depth': 7} Mean_score: 0.7981988838153221 Rank: 2\n",
            "Parameters:{'n_estimators': 150, 'max_leaf_nodes': 80, 'max_depth': 3} Mean_score: 0.6539827498731609 Rank: 10\n",
            "Parameters:{'n_estimators': 150, 'max_leaf_nodes': 80, 'max_depth': 7} Mean_score: 0.8310502283105023 Rank: 1\n",
            "Parameters:{'n_estimators': 100, 'max_leaf_nodes': 80, 'max_depth': 4} Mean_score: 0.7358574327752411 Rank: 6\n",
            "Parameters:{'n_estimators': 50, 'max_leaf_nodes': 40, 'max_depth': 5} Mean_score: 0.7639523084728564 Rank: 4\n"
          ]
        }
      ]
    },
    {
      "cell_type": "code",
      "source": [
        "print(clf.best_estimator_)"
      ],
      "metadata": {
        "id": "QNMSbVYdev-U",
        "colab": {
          "base_uri": "https://localhost:8080/"
        },
        "outputId": "f24c25c1-ecb4-4f3a-9344-7adb21f7c0f3"
      },
      "execution_count": 5,
      "outputs": [
        {
          "output_type": "stream",
          "name": "stdout",
          "text": [
            "RandomForestClassifier(max_depth=7, max_leaf_nodes=80, n_estimators=150)\n"
          ]
        }
      ]
    },
    {
      "cell_type": "code",
      "source": [
        "print(clf.best_params_)"
      ],
      "metadata": {
        "id": "Z07eRVRcexF9",
        "colab": {
          "base_uri": "https://localhost:8080/"
        },
        "outputId": "842ebe8b-e772-4d8a-a757-9fd54d824377"
      },
      "execution_count": 6,
      "outputs": [
        {
          "output_type": "stream",
          "name": "stdout",
          "text": [
            "{'n_estimators': 150, 'max_leaf_nodes': 80, 'max_depth': 7}\n"
          ]
        }
      ]
    },
    {
      "cell_type": "code",
      "source": [
        "from sklearn.ensemble import GradientBoostingClassifier\n",
        "model = GradientBoostingClassifier()\n",
        "\n",
        "\n",
        "params = {\n",
        "    \"n_estimators\": [50,100,150],\n",
        "    \"max_depth\" : [3, 4, 5],\n",
        "    \"max_leaf_nodes\" : [20, 40, 80],\n",
        "}\n",
        "\n",
        "\n",
        "start = time() # log the starting time\n",
        "# define randomsearch cv\n",
        "cls=RandomizedSearchCV(model, params, scoring = \"accuracy\", cv=3,\n",
        "                       n_jobs = -1, verbose = 1,n_iter=2) # reduced iteration to sample parameters as well as cv size\n",
        "cls.fit(X_train, y_train)\n",
        "end = time() # logs the end time\n",
        "print(\"Time Taken:\", end-start) # Total time taken"
      ],
      "metadata": {
        "colab": {
          "base_uri": "https://localhost:8080/"
        },
        "id": "ycMpFevEdzeF",
        "outputId": "7a4a938e-86dc-4119-b855-de1162a359e5"
      },
      "execution_count": 9,
      "outputs": [
        {
          "output_type": "stream",
          "name": "stdout",
          "text": [
            "Fitting 2 folds for each of 2 candidates, totalling 4 fits\n",
            "Time Taken: 641.3922891616821\n"
          ]
        }
      ]
    },
    {
      "cell_type": "code",
      "source": [
        "641/60/4 *30\n"
      ],
      "metadata": {
        "colab": {
          "base_uri": "https://localhost:8080/"
        },
        "id": "g_iHkjkI3JyJ",
        "outputId": "d4de20fd-1e00-42b5-dc87-1ca1f4a00e76"
      },
      "execution_count": 14,
      "outputs": [
        {
          "output_type": "execute_result",
          "data": {
            "text/plain": [
              "80.125"
            ]
          },
          "metadata": {},
          "execution_count": 14
        }
      ]
    },
    {
      "cell_type": "code",
      "source": [
        "res = cls.cv_results_\n",
        "for i in range(len(res[\"params\"])):\n",
        "  print(f\"Parameters:{res['params'][i]} Mean_score: {res['mean_test_score'][i]} Rank: {res['rank_test_score'][i]}\")"
      ],
      "metadata": {
        "colab": {
          "base_uri": "https://localhost:8080/"
        },
        "id": "P03PjBaZ3WTc",
        "outputId": "d887254a-5e77-429d-f6be-8f4e85b99194"
      },
      "execution_count": 16,
      "outputs": [
        {
          "output_type": "stream",
          "name": "stdout",
          "text": [
            "Parameters:{'n_estimators': 150, 'max_leaf_nodes': 40, 'max_depth': 3} Mean_score: 0.9420345002536783 Rank: 2\n",
            "Parameters:{'n_estimators': 150, 'max_leaf_nodes': 80, 'max_depth': 5} Mean_score: 0.9533231861998985 Rank: 1\n"
          ]
        }
      ]
    },
    {
      "cell_type": "markdown",
      "source": [],
      "metadata": {
        "id": "EvPxEH2cubo3"
      }
    },
    {
      "cell_type": "code",
      "source": [
        "# !pip install xgboost: Not needed in Colab. Install in local system"
      ],
      "metadata": {
        "id": "fof-AFORasDd"
      },
      "execution_count": null,
      "outputs": []
    },
    {
      "cell_type": "code",
      "source": [
        "import xgboost as xgb\n",
        "\n",
        "params = {\n",
        "    \"n_estimators\": [50,100,150,200],\n",
        "    \"max_depth\" : [3, 4, 5, 7],\n",
        "    \"max_leaf_nodes\" : [20, 40, 80],\n",
        "}\n",
        "model = xgb.XGBClassifier()\n"
      ],
      "metadata": {
        "id": "_QJjVTkjudmE"
      },
      "execution_count": 17,
      "outputs": []
    },
    {
      "cell_type": "code",
      "source": [
        "params = {\"n_estimators\": [50,100,150],\n",
        "    \"max_depth\" : [3, 4, 5],\n",
        "    \"max_leaf_nodes\" : [20, 40, 80],\n",
        "}\n",
        "\n",
        "start = time() # log the starting time\n",
        "# define randomsearch cv\n",
        "cls=RandomizedSearchCV(model, params, scoring = \"accuracy\", cv=3,\n",
        "                       n_jobs = -1, verbose = 1,n_iter=2) # reduced iteration to sample parameters as well as cv size\n",
        "cls.fit(X_train, y_train)\n",
        "end = time() # logs the end time\n",
        "print(\"Time Taken:\", end-start) # Total time taken"
      ],
      "metadata": {
        "colab": {
          "base_uri": "https://localhost:8080/"
        },
        "id": "qUxSnCXmx6X2",
        "outputId": "1eb3d612-ed6c-4bff-ac23-c8faeb91e8f1"
      },
      "execution_count": 18,
      "outputs": [
        {
          "output_type": "stream",
          "name": "stdout",
          "text": [
            "Fitting 2 folds for each of 2 candidates, totalling 4 fits\n"
          ]
        },
        {
          "output_type": "stream",
          "name": "stderr",
          "text": [
            "/usr/local/lib/python3.10/dist-packages/xgboost/core.py:160: UserWarning: [17:15:18] WARNING: /workspace/src/learner.cc:742: \n",
            "Parameters: { \"max_leaf_nodes\" } are not used.\n",
            "\n",
            "  warnings.warn(smsg, UserWarning)\n"
          ]
        },
        {
          "output_type": "stream",
          "name": "stdout",
          "text": [
            "Time Taken: 16.0151584148407\n"
          ]
        }
      ]
    },
    {
      "cell_type": "code",
      "source": [
        "res = cls.cv_results_\n",
        "for i in range(len(res[\"params\"])):\n",
        "  print(f\"Parameters:{res['params'][i]} Mean_score: {res['mean_test_score'][i]} Rank: {res['rank_test_score'][i]}\")"
      ],
      "metadata": {
        "colab": {
          "base_uri": "https://localhost:8080/"
        },
        "id": "GQJBarFAx_bh",
        "outputId": "5d837299-affc-434b-a6cb-25d38d4d33e0"
      },
      "execution_count": 19,
      "outputs": [
        {
          "output_type": "stream",
          "name": "stdout",
          "text": [
            "Parameters:{'n_estimators': 150, 'max_leaf_nodes': 20, 'max_depth': 3} Mean_score: 0.9420345002536783 Rank: 2\n",
            "Parameters:{'n_estimators': 100, 'max_leaf_nodes': 80, 'max_depth': 5} Mean_score: 0.9514840182648402 Rank: 1\n"
          ]
        }
      ]
    },
    {
      "cell_type": "code",
      "source": [
        "clf=fit_and_return_model(model, params)"
      ],
      "metadata": {
        "colab": {
          "base_uri": "https://localhost:8080/"
        },
        "id": "gA6Wer_a3xje",
        "outputId": "ea3f4368-3c13-49b6-db94-92ea2d548de4"
      },
      "execution_count": 20,
      "outputs": [
        {
          "output_type": "stream",
          "name": "stdout",
          "text": [
            "Fitting 3 folds for each of 10 candidates, totalling 30 fits\n"
          ]
        },
        {
          "output_type": "stream",
          "name": "stderr",
          "text": [
            "/usr/local/lib/python3.10/dist-packages/xgboost/core.py:160: UserWarning: [17:18:16] WARNING: /workspace/src/learner.cc:742: \n",
            "Parameters: { \"max_leaf_nodes\" } are not used.\n",
            "\n",
            "  warnings.warn(smsg, UserWarning)\n"
          ]
        },
        {
          "output_type": "stream",
          "name": "stdout",
          "text": [
            "Time Taken: 87.52987456321716\n"
          ]
        }
      ]
    },
    {
      "cell_type": "markdown",
      "source": [
        "### TRY LIGHTGBM and compare performance"
      ],
      "metadata": {
        "id": "HO0hMc-n4FEq"
      }
    },
    {
      "cell_type": "code",
      "source": [],
      "metadata": {
        "id": "spPNshlJ4Bo-"
      },
      "execution_count": null,
      "outputs": []
    }
  ]
}